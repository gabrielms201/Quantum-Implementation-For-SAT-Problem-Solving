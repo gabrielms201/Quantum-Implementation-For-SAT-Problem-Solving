{
  "cells": [
    {
      "cell_type": "markdown",
      "metadata": {
        "id": "aEAua7cWFwTs"
      },
      "source": [
        "# Imports, pip e variáveis globais"
      ]
    },
    {
      "cell_type": "code",
      "execution_count": null,
      "metadata": {
        "id": "tUujYpE6-UKp",
        "colab": {
          "base_uri": "https://localhost:8080/"
        },
        "outputId": "fb6bc770-1e51-479c-e128-13c56feac0ce"
      },
      "outputs": [
        {
          "output_type": "stream",
          "name": "stdout",
          "text": [
            "Requirement already satisfied: qiskit-aer in /usr/local/lib/python3.10/dist-packages (0.14.0.1)\n",
            "Requirement already satisfied: qiskit>=0.45.0 in /usr/local/lib/python3.10/dist-packages (from qiskit-aer) (1.0.2)\n",
            "Requirement already satisfied: numpy>=1.16.3 in /usr/local/lib/python3.10/dist-packages (from qiskit-aer) (1.25.2)\n",
            "Requirement already satisfied: scipy>=1.0 in /usr/local/lib/python3.10/dist-packages (from qiskit-aer) (1.11.4)\n",
            "Requirement already satisfied: psutil>=5 in /usr/local/lib/python3.10/dist-packages (from qiskit-aer) (5.9.5)\n",
            "Requirement already satisfied: rustworkx>=0.14.0 in /usr/local/lib/python3.10/dist-packages (from qiskit>=0.45.0->qiskit-aer) (0.14.2)\n",
            "Requirement already satisfied: sympy>=1.3 in /usr/local/lib/python3.10/dist-packages (from qiskit>=0.45.0->qiskit-aer) (1.12)\n",
            "Requirement already satisfied: dill>=0.3 in /usr/local/lib/python3.10/dist-packages (from qiskit>=0.45.0->qiskit-aer) (0.3.8)\n",
            "Requirement already satisfied: python-dateutil>=2.8.0 in /usr/local/lib/python3.10/dist-packages (from qiskit>=0.45.0->qiskit-aer) (2.8.2)\n",
            "Requirement already satisfied: stevedore>=3.0.0 in /usr/local/lib/python3.10/dist-packages (from qiskit>=0.45.0->qiskit-aer) (5.2.0)\n",
            "Requirement already satisfied: typing-extensions in /usr/local/lib/python3.10/dist-packages (from qiskit>=0.45.0->qiskit-aer) (4.11.0)\n",
            "Requirement already satisfied: symengine>=0.11 in /usr/local/lib/python3.10/dist-packages (from qiskit>=0.45.0->qiskit-aer) (0.11.0)\n",
            "Requirement already satisfied: six>=1.5 in /usr/local/lib/python3.10/dist-packages (from python-dateutil>=2.8.0->qiskit>=0.45.0->qiskit-aer) (1.16.0)\n",
            "Requirement already satisfied: pbr!=2.1.0,>=2.0.0 in /usr/local/lib/python3.10/dist-packages (from stevedore>=3.0.0->qiskit>=0.45.0->qiskit-aer) (6.0.0)\n",
            "Requirement already satisfied: mpmath>=0.19 in /usr/local/lib/python3.10/dist-packages (from sympy>=1.3->qiskit>=0.45.0->qiskit-aer) (1.3.0)\n",
            "Requirement already satisfied: qiskit in /usr/local/lib/python3.10/dist-packages (1.0.2)\n",
            "Requirement already satisfied: rustworkx>=0.14.0 in /usr/local/lib/python3.10/dist-packages (from qiskit) (0.14.2)\n",
            "Requirement already satisfied: numpy<2,>=1.17 in /usr/local/lib/python3.10/dist-packages (from qiskit) (1.25.2)\n",
            "Requirement already satisfied: scipy>=1.5 in /usr/local/lib/python3.10/dist-packages (from qiskit) (1.11.4)\n",
            "Requirement already satisfied: sympy>=1.3 in /usr/local/lib/python3.10/dist-packages (from qiskit) (1.12)\n",
            "Requirement already satisfied: dill>=0.3 in /usr/local/lib/python3.10/dist-packages (from qiskit) (0.3.8)\n",
            "Requirement already satisfied: python-dateutil>=2.8.0 in /usr/local/lib/python3.10/dist-packages (from qiskit) (2.8.2)\n",
            "Requirement already satisfied: stevedore>=3.0.0 in /usr/local/lib/python3.10/dist-packages (from qiskit) (5.2.0)\n",
            "Requirement already satisfied: typing-extensions in /usr/local/lib/python3.10/dist-packages (from qiskit) (4.11.0)\n",
            "Requirement already satisfied: symengine>=0.11 in /usr/local/lib/python3.10/dist-packages (from qiskit) (0.11.0)\n",
            "Requirement already satisfied: six>=1.5 in /usr/local/lib/python3.10/dist-packages (from python-dateutil>=2.8.0->qiskit) (1.16.0)\n",
            "Requirement already satisfied: pbr!=2.1.0,>=2.0.0 in /usr/local/lib/python3.10/dist-packages (from stevedore>=3.0.0->qiskit) (6.0.0)\n",
            "Requirement already satisfied: mpmath>=0.19 in /usr/local/lib/python3.10/dist-packages (from sympy>=1.3->qiskit) (1.3.0)\n",
            "Requirement already satisfied: qiskit-ibm-runtime in /usr/local/lib/python3.10/dist-packages (0.23.0)\n",
            "Requirement already satisfied: requests>=2.19 in /usr/local/lib/python3.10/dist-packages (from qiskit-ibm-runtime) (2.31.0)\n",
            "Requirement already satisfied: requests-ntlm>=1.1.0 in /usr/local/lib/python3.10/dist-packages (from qiskit-ibm-runtime) (1.2.0)\n",
            "Requirement already satisfied: numpy>=1.13 in /usr/local/lib/python3.10/dist-packages (from qiskit-ibm-runtime) (1.25.2)\n",
            "Requirement already satisfied: urllib3>=1.21.1 in /usr/local/lib/python3.10/dist-packages (from qiskit-ibm-runtime) (2.2.1)\n",
            "Requirement already satisfied: python-dateutil>=2.8.0 in /usr/local/lib/python3.10/dist-packages (from qiskit-ibm-runtime) (2.8.2)\n",
            "Requirement already satisfied: websocket-client>=1.5.1 in /usr/local/lib/python3.10/dist-packages (from qiskit-ibm-runtime) (1.7.0)\n",
            "Requirement already satisfied: ibm-platform-services>=0.22.6 in /usr/local/lib/python3.10/dist-packages (from qiskit-ibm-runtime) (0.53.6)\n",
            "Requirement already satisfied: pydantic in /usr/local/lib/python3.10/dist-packages (from qiskit-ibm-runtime) (2.7.0)\n",
            "Requirement already satisfied: qiskit>=1.0.0 in /usr/local/lib/python3.10/dist-packages (from qiskit-ibm-runtime) (1.0.2)\n",
            "Requirement already satisfied: ibm-cloud-sdk-core<4.0.0,>=3.19.2 in /usr/local/lib/python3.10/dist-packages (from ibm-platform-services>=0.22.6->qiskit-ibm-runtime) (3.20.0)\n",
            "Requirement already satisfied: six>=1.5 in /usr/local/lib/python3.10/dist-packages (from python-dateutil>=2.8.0->qiskit-ibm-runtime) (1.16.0)\n",
            "Requirement already satisfied: rustworkx>=0.14.0 in /usr/local/lib/python3.10/dist-packages (from qiskit>=1.0.0->qiskit-ibm-runtime) (0.14.2)\n",
            "Requirement already satisfied: scipy>=1.5 in /usr/local/lib/python3.10/dist-packages (from qiskit>=1.0.0->qiskit-ibm-runtime) (1.11.4)\n",
            "Requirement already satisfied: sympy>=1.3 in /usr/local/lib/python3.10/dist-packages (from qiskit>=1.0.0->qiskit-ibm-runtime) (1.12)\n",
            "Requirement already satisfied: dill>=0.3 in /usr/local/lib/python3.10/dist-packages (from qiskit>=1.0.0->qiskit-ibm-runtime) (0.3.8)\n",
            "Requirement already satisfied: stevedore>=3.0.0 in /usr/local/lib/python3.10/dist-packages (from qiskit>=1.0.0->qiskit-ibm-runtime) (5.2.0)\n",
            "Requirement already satisfied: typing-extensions in /usr/local/lib/python3.10/dist-packages (from qiskit>=1.0.0->qiskit-ibm-runtime) (4.11.0)\n",
            "Requirement already satisfied: symengine>=0.11 in /usr/local/lib/python3.10/dist-packages (from qiskit>=1.0.0->qiskit-ibm-runtime) (0.11.0)\n",
            "Requirement already satisfied: charset-normalizer<4,>=2 in /usr/local/lib/python3.10/dist-packages (from requests>=2.19->qiskit-ibm-runtime) (3.3.2)\n",
            "Requirement already satisfied: idna<4,>=2.5 in /usr/local/lib/python3.10/dist-packages (from requests>=2.19->qiskit-ibm-runtime) (3.7)\n",
            "Requirement already satisfied: certifi>=2017.4.17 in /usr/local/lib/python3.10/dist-packages (from requests>=2.19->qiskit-ibm-runtime) (2024.2.2)\n",
            "Requirement already satisfied: cryptography>=1.3 in /usr/local/lib/python3.10/dist-packages (from requests-ntlm>=1.1.0->qiskit-ibm-runtime) (42.0.5)\n",
            "Requirement already satisfied: pyspnego>=0.1.6 in /usr/local/lib/python3.10/dist-packages (from requests-ntlm>=1.1.0->qiskit-ibm-runtime) (0.10.2)\n",
            "Requirement already satisfied: annotated-types>=0.4.0 in /usr/local/lib/python3.10/dist-packages (from pydantic->qiskit-ibm-runtime) (0.6.0)\n",
            "Requirement already satisfied: pydantic-core==2.18.1 in /usr/local/lib/python3.10/dist-packages (from pydantic->qiskit-ibm-runtime) (2.18.1)\n",
            "Requirement already satisfied: cffi>=1.12 in /usr/local/lib/python3.10/dist-packages (from cryptography>=1.3->requests-ntlm>=1.1.0->qiskit-ibm-runtime) (1.16.0)\n",
            "Requirement already satisfied: PyJWT<3.0.0,>=2.8.0 in /usr/local/lib/python3.10/dist-packages (from ibm-cloud-sdk-core<4.0.0,>=3.19.2->ibm-platform-services>=0.22.6->qiskit-ibm-runtime) (2.8.0)\n",
            "Requirement already satisfied: pbr!=2.1.0,>=2.0.0 in /usr/local/lib/python3.10/dist-packages (from stevedore>=3.0.0->qiskit>=1.0.0->qiskit-ibm-runtime) (6.0.0)\n",
            "Requirement already satisfied: mpmath>=0.19 in /usr/local/lib/python3.10/dist-packages (from sympy>=1.3->qiskit>=1.0.0->qiskit-ibm-runtime) (1.3.0)\n",
            "Requirement already satisfied: pycparser in /usr/local/lib/python3.10/dist-packages (from cffi>=1.12->cryptography>=1.3->requests-ntlm>=1.1.0->qiskit-ibm-runtime) (2.22)\n",
            "Requirement already satisfied: qiskit_aer in /usr/local/lib/python3.10/dist-packages (0.14.0.1)\n",
            "Requirement already satisfied: qiskit>=0.45.0 in /usr/local/lib/python3.10/dist-packages (from qiskit_aer) (1.0.2)\n",
            "Requirement already satisfied: numpy>=1.16.3 in /usr/local/lib/python3.10/dist-packages (from qiskit_aer) (1.25.2)\n",
            "Requirement already satisfied: scipy>=1.0 in /usr/local/lib/python3.10/dist-packages (from qiskit_aer) (1.11.4)\n",
            "Requirement already satisfied: psutil>=5 in /usr/local/lib/python3.10/dist-packages (from qiskit_aer) (5.9.5)\n",
            "Requirement already satisfied: rustworkx>=0.14.0 in /usr/local/lib/python3.10/dist-packages (from qiskit>=0.45.0->qiskit_aer) (0.14.2)\n",
            "Requirement already satisfied: sympy>=1.3 in /usr/local/lib/python3.10/dist-packages (from qiskit>=0.45.0->qiskit_aer) (1.12)\n",
            "Requirement already satisfied: dill>=0.3 in /usr/local/lib/python3.10/dist-packages (from qiskit>=0.45.0->qiskit_aer) (0.3.8)\n",
            "Requirement already satisfied: python-dateutil>=2.8.0 in /usr/local/lib/python3.10/dist-packages (from qiskit>=0.45.0->qiskit_aer) (2.8.2)\n",
            "Requirement already satisfied: stevedore>=3.0.0 in /usr/local/lib/python3.10/dist-packages (from qiskit>=0.45.0->qiskit_aer) (5.2.0)\n",
            "Requirement already satisfied: typing-extensions in /usr/local/lib/python3.10/dist-packages (from qiskit>=0.45.0->qiskit_aer) (4.11.0)\n",
            "Requirement already satisfied: symengine>=0.11 in /usr/local/lib/python3.10/dist-packages (from qiskit>=0.45.0->qiskit_aer) (0.11.0)\n",
            "Requirement already satisfied: six>=1.5 in /usr/local/lib/python3.10/dist-packages (from python-dateutil>=2.8.0->qiskit>=0.45.0->qiskit_aer) (1.16.0)\n",
            "Requirement already satisfied: pbr!=2.1.0,>=2.0.0 in /usr/local/lib/python3.10/dist-packages (from stevedore>=3.0.0->qiskit>=0.45.0->qiskit_aer) (6.0.0)\n",
            "Requirement already satisfied: mpmath>=0.19 in /usr/local/lib/python3.10/dist-packages (from sympy>=1.3->qiskit>=0.45.0->qiskit_aer) (1.3.0)\n",
            "Requirement already satisfied: pylatexenc in /usr/local/lib/python3.10/dist-packages (2.10)\n",
            "Requirement already satisfied: tweedledum in /usr/local/lib/python3.10/dist-packages (1.1.1)\n",
            "Requirement already satisfied: qiskit-algorithms in /usr/local/lib/python3.10/dist-packages (0.3.0)\n",
            "Requirement already satisfied: qiskit>=0.44 in /usr/local/lib/python3.10/dist-packages (from qiskit-algorithms) (1.0.2)\n",
            "Requirement already satisfied: scipy>=1.4 in /usr/local/lib/python3.10/dist-packages (from qiskit-algorithms) (1.11.4)\n",
            "Requirement already satisfied: numpy>=1.17 in /usr/local/lib/python3.10/dist-packages (from qiskit-algorithms) (1.25.2)\n",
            "Requirement already satisfied: rustworkx>=0.14.0 in /usr/local/lib/python3.10/dist-packages (from qiskit>=0.44->qiskit-algorithms) (0.14.2)\n",
            "Requirement already satisfied: sympy>=1.3 in /usr/local/lib/python3.10/dist-packages (from qiskit>=0.44->qiskit-algorithms) (1.12)\n",
            "Requirement already satisfied: dill>=0.3 in /usr/local/lib/python3.10/dist-packages (from qiskit>=0.44->qiskit-algorithms) (0.3.8)\n",
            "Requirement already satisfied: python-dateutil>=2.8.0 in /usr/local/lib/python3.10/dist-packages (from qiskit>=0.44->qiskit-algorithms) (2.8.2)\n",
            "Requirement already satisfied: stevedore>=3.0.0 in /usr/local/lib/python3.10/dist-packages (from qiskit>=0.44->qiskit-algorithms) (5.2.0)\n",
            "Requirement already satisfied: typing-extensions in /usr/local/lib/python3.10/dist-packages (from qiskit>=0.44->qiskit-algorithms) (4.11.0)\n",
            "Requirement already satisfied: symengine>=0.11 in /usr/local/lib/python3.10/dist-packages (from qiskit>=0.44->qiskit-algorithms) (0.11.0)\n",
            "Requirement already satisfied: six>=1.5 in /usr/local/lib/python3.10/dist-packages (from python-dateutil>=2.8.0->qiskit>=0.44->qiskit-algorithms) (1.16.0)\n",
            "Requirement already satisfied: pbr!=2.1.0,>=2.0.0 in /usr/local/lib/python3.10/dist-packages (from stevedore>=3.0.0->qiskit>=0.44->qiskit-algorithms) (6.0.0)\n",
            "Requirement already satisfied: mpmath>=0.19 in /usr/local/lib/python3.10/dist-packages (from sympy>=1.3->qiskit>=0.44->qiskit-algorithms) (1.3.0)\n"
          ]
        }
      ],
      "source": [
        "# Maneira elegante de instalar os pacotes para que não demore nas execuções seguintes\n",
        "if 'package_installed_kv_pair' not in globals():\n",
        "    # Se não estiver definida, inicializa como um dicionário vazio\n",
        "    package_installed_kv_pair = {}\n",
        "\n",
        "# Lista de pacotes a serem verificados/instalados\n",
        "packages = ['qiskit-aer', 'qiskit', 'qiskit-ibm-runtime', 'qiskit_aer', 'pylatexenc', 'tweedledum', 'qiskit-algorithms']\n",
        "\n",
        "# Verifica se cada pacote já está instalado\n",
        "for package in packages:\n",
        "    if package_installed_kv_pair.get(package) is None:\n",
        "        package_installed_kv_pair[package] = True\n",
        "        !pip install {package}"
      ]
    },
    {
      "cell_type": "code",
      "execution_count": null,
      "metadata": {
        "id": "QeP2qUApwR4e"
      },
      "outputs": [],
      "source": [
        "# Visualization\n",
        "from qiskit.visualization import array_to_latex\n",
        "from qiskit.visualization import plot_histogram\n",
        "import matplotlib.pyplot as plt\n",
        "\n",
        "# BackEnd\n",
        "from qiskit.providers.basic_provider import BasicProvider\n",
        "\n",
        "# Circuit\n",
        "from qiskit import QuantumRegister, QuantumCircuit, transpile, assemble\n",
        "from qiskit.circuit.library import CCZGate, ZGate\n",
        "from qiskit.circuit.library import Diagonal\n",
        "from qiskit.circuit.library import PhaseOracle\n",
        "\n",
        "# Utils\n",
        "from qiskit.quantum_info import Statevector\n",
        "import numpy as np\n",
        "import pandas as pd\n",
        "import itertools\n",
        "import statistics\n"
      ]
    },
    {
      "cell_type": "code",
      "execution_count": null,
      "metadata": {
        "id": "nn3w4PvkTLQF"
      },
      "outputs": [],
      "source": [
        "# Global\n",
        "CLAUSES_QTY = 3 # 4-SAT\n",
        "QUBIT_QTY = CLAUSES_QTY\n",
        "\n",
        "EXPRESSION_3SAT = \"(~A | ~B | ~C) & (A | ~B | C) & (A | B | ~C) & (A | ~B | ~C) & (~A | B | C)\"\n",
        "EXPRESSION_4SAT =  \"(~A | B | C | D) & (A | ~B | C | D) & (A | B | ~C | D) & (A | B | C | ~D) & (A | B | ~C | ~D)\"\n",
        "EXPRESSION_3SAT_2 = \"(~A | B | C) & (A | ~B | C) & (A | B | C) & (~A | B | ~C)\"\n",
        "EXPRESSION_3SAT_3 = \"(~A | ~B | ~C) & (A | ~B | C) & (~A | ~B | C) & (~A | ~B | ~C)\"\n",
        "\n",
        "\n",
        "EXPRESSIONS = {\n",
        "    3 : EXPRESSION_3SAT,\n",
        "    4 : EXPRESSION_4SAT\n",
        "}\n",
        "EXPRESSION = EXPRESSIONS[CLAUSES_QTY]\n",
        "\n",
        "# EXPERIMENTAL\n",
        "USE_RANDOM_EXPRESSION = False"
      ]
    },
    {
      "cell_type": "markdown",
      "metadata": {
        "id": "VG-k27BN3TJQ"
      },
      "source": [
        "# Utilidade"
      ]
    },
    {
      "cell_type": "code",
      "execution_count": null,
      "metadata": {
        "id": "Tmwk1E1q1kI1"
      },
      "outputs": [],
      "source": [
        "# Função não otimizada, porém simples para gerar expressões k-sat\n",
        "import random\n",
        "def GenerateSatExpression(k):\n",
        "  alfabeto = [chr(letra) for letra in range(ord('A'), ord('Z')+1)]\n",
        "  if (k > len(alfabeto)):\n",
        "    print(\"No momento, ainda não é possível gerar\")\n",
        "  expr = \"\"\n",
        "  for i in range(k):\n",
        "    expr += \"(\"\n",
        "    for j in range(k):\n",
        "      if (random.choice([True, False])):\n",
        "        expr += \"~\"\n",
        "      expr += f\"{alfabeto[j]}\"\n",
        "      if j != k-1:\n",
        "        expr += \" | \"\n",
        "    expr += \")\"\n",
        "    if (i != k-1):\n",
        "      expr += \" & \"\n",
        "  return expr\n",
        "if (USE_RANDOM_EXPRESSION is True):\n",
        "  CLAUSES_QTY = 3\n",
        "  QUBIT_QTY = CLAUSES_QTY\n",
        "  random_expr = GenerateSatExpression(CLAUSES_QTY)\n",
        "  EXPRESSION = random_expr\n",
        "  print(EXPRESSION)"
      ]
    },
    {
      "cell_type": "markdown",
      "metadata": {
        "id": "mIUR818mF6sA"
      },
      "source": [
        "# Criação do Oráculo que representa a nossa expressão"
      ]
    },
    {
      "cell_type": "code",
      "execution_count": null,
      "metadata": {
        "id": "yu6QFpCtxS9s"
      },
      "outputs": [],
      "source": [
        "def GetOracle():\n",
        "  oracle = PhaseOracle(EXPRESSION)\n",
        "  return oracle"
      ]
    },
    {
      "cell_type": "code",
      "execution_count": null,
      "metadata": {
        "id": "tIUxMtia647i",
        "colab": {
          "base_uri": "https://localhost:8080/",
          "height": 255
        },
        "outputId": "918f6c7c-e041-442a-e5ff-1a528527534b"
      },
      "outputs": [
        {
          "output_type": "execute_result",
          "data": {
            "text/plain": [
              "<Figure size 538.33x284.278 with 1 Axes>"
            ],
            "image/png": "[encoded data removed]"
          },
          "metadata": {},
          "execution_count": 8
        }
      ],
      "source": [
        "oracle = GetOracle()\n",
        "oracle.draw(\"mpl\")"
      ]
    },
    {
      "cell_type": "markdown",
      "metadata": {
        "id": "Iy9nLQieGB5V"
      },
      "source": [
        "# Zero Reflection\n",
        "Parecido com a implementação do qiskit APENAS para 3-SAT\n",
        "\n",
        "(não utilizamos aqui)"
      ]
    },
    {
      "cell_type": "code",
      "execution_count": null,
      "metadata": {
        "id": "le2u84f26bZr"
      },
      "outputs": [],
      "source": [
        "def GetZeroReflection(oracle):\n",
        "  num_qubits = QUBIT_QTY\n",
        "  qubits = [0, 1, 2]\n",
        "  qr_state = QuantumRegister(num_qubits, \"state\")\n",
        "  reflection = QuantumCircuit(qr_state)\n",
        "\n",
        "  first_qubit = qubits[0]\n",
        "  second_qubit = qubits[1]\n",
        "  third_qubit = qubits[2]\n",
        "\n",
        "  reflection.x(qubits)\n",
        "  reflection.h(qubits[third_qubit])\n",
        "  reflection.mcx([0,1], qubits[third_qubit])\n",
        "  reflection.h(qubits[third_qubit])\n",
        "  reflection.x(qubits)\n",
        "\n",
        "  return reflection\n"
      ]
    },
    {
      "cell_type": "code",
      "execution_count": null,
      "metadata": {
        "id": "KZf6C3TZ66nZ",
        "colab": {
          "base_uri": "https://localhost:8080/",
          "height": 255
        },
        "outputId": "85a8fa6a-10dd-4d72-be14-3ad2c2d7ec8f"
      },
      "outputs": [
        {
          "output_type": "execute_result",
          "data": {
            "text/plain": [
              "<Figure size 593.214x284.278 with 1 Axes>"
            ],
            "image/png": "[encoded data removed]"
          },
          "metadata": {},
          "execution_count": 10
        }
      ],
      "source": [
        "zeroReflection = GetZeroReflection(oracle)\n",
        "zeroReflection.draw(\"mpl\")"
      ]
    },
    {
      "cell_type": "markdown",
      "metadata": {
        "id": "jhU6ghmGH2ZW"
      },
      "source": [
        "# Diagonal\n",
        "Baseado na implementação de Giancarlo\n",
        "* https://github.com/giangamberi/\n",
        "Estudo-de-algoritmos-quanticos-e-suas-implementacoes/blob/main/EAQSI.ipynb\n",
        "\n",
        "* https://dspace.mackenzie.br/items/071a8df2-1a8f-45c2-ab22-49749d06479b"
      ]
    },
    {
      "cell_type": "code",
      "execution_count": null,
      "metadata": {
        "id": "0mmspAMIH6Cu"
      },
      "outputs": [],
      "source": [
        "def convertDiagonal(number, qubits):\n",
        "    diagonalSize = pow(2,qubits)\n",
        "    if (diagonalSize < number - 1): return -1\n",
        "    aux = np.ones(diagonalSize, dtype=int) # Criacao um array do tamanho da qtd de 2 qubits\n",
        "    aux[number] = -1\n",
        "    return aux\n",
        "\n",
        "def GetDiagonal(oracle):\n",
        "  # Montagem da diagonal\n",
        "  qubit_qtd = QUBIT_QTY\n",
        "  allQbits = [i for i in range(qubit_qtd)]\n",
        "\n",
        "  groverDiagonal = list(convertDiagonal(0, qubit_qtd))\n",
        "  return Diagonal(groverDiagonal)"
      ]
    },
    {
      "cell_type": "code",
      "execution_count": null,
      "metadata": {
        "id": "HxyAXCXtvrdK",
        "colab": {
          "base_uri": "https://localhost:8080/",
          "height": 140
        },
        "outputId": "6738e105-c7d6-4b6d-fbf9-67d122730337"
      },
      "outputs": [
        {
          "output_type": "execute_result",
          "data": {
            "text/plain": [
              "global phase: π/8\n",
              "     ┌─────────────────┐                               \n",
              "q_0: ┤0                ├───────────────────────────────\n",
              "     │                 │┌───────────────┐              \n",
              "q_1: ┤1 Ucrz(-π,0,0,0) ├┤0              ├──────────────\n",
              "     │                 ││  Ucrz(-π/2,0) │┌────────────┐\n",
              "q_2: ┤2                ├┤1              ├┤ Ucrz(-π/4) ├\n",
              "     └─────────────────┘└───────────────┘└────────────┘"
            ],
            "text/html": [
              "<pre style=\"word-wrap: normal;white-space: pre;background: #fff0;line-height: 1.1;font-family: &quot;Courier New&quot;,Courier,monospace\">global phase: π/8\n",
              "     ┌─────────────────┐                               \n",
              "q_0: ┤0                ├───────────────────────────────\n",
              "     │                 │┌───────────────┐              \n",
              "q_1: ┤1 Ucrz(-π,0,0,0) ├┤0              ├──────────────\n",
              "     │                 ││  Ucrz(-π/2,0) │┌────────────┐\n",
              "q_2: ┤2                ├┤1              ├┤ Ucrz(-π/4) ├\n",
              "     └─────────────────┘└───────────────┘└────────────┘</pre>"
            ]
          },
          "metadata": {},
          "execution_count": 12
        }
      ],
      "source": [
        "diagonal = GetDiagonal(oracle)\n",
        "diagonal.decompose().draw()"
      ]
    },
    {
      "cell_type": "markdown",
      "metadata": {
        "id": "o6Ihay5xGKzk"
      },
      "source": [
        "# Concatenando oráculo com operador de grover\n",
        "(Grover Operator + Oracle)"
      ]
    },
    {
      "cell_type": "code",
      "execution_count": null,
      "metadata": {
        "id": "BAHf1F-O2M1f"
      },
      "outputs": [],
      "source": [
        "def ApplyGrover(oracle):\n",
        "  num_qubits = QUBIT_QTY\n",
        "  qr = QuantumRegister(num_qubits, name=\"State\")\n",
        "  qc = QuantumCircuit(qr, name = \"Grover Operator\")\n",
        "  qubits = list(range(QUBIT_QTY)) # Maneira automatizada de fazer [0,1,2]\n",
        "  qc.compose(oracle, qubits, inplace=True)\n",
        "\n",
        "  # Aplica Hadamart Para cada qubit\n",
        "  for q in range(num_qubits):\n",
        "    qc.h(q)\n",
        "  #Aplica a diagonal\n",
        "  qc.compose(\n",
        "      GetDiagonal(oracle),qubits, inplace=True\n",
        "  )\n",
        "  # Aplica Hadamart Para cada qubit\n",
        "  for q in range(num_qubits):\n",
        "    qc.h(q)\n",
        "  return qc"
      ]
    },
    {
      "cell_type": "code",
      "execution_count": null,
      "metadata": {
        "id": "bhUJ7X8a2L7d",
        "colab": {
          "base_uri": "https://localhost:8080/",
          "height": 255
        },
        "outputId": "811a9060-180a-442e-a520-8113643b7a09"
      },
      "outputs": [
        {
          "output_type": "execute_result",
          "data": {
            "text/plain": [
              "<Figure size 930.87x284.278 with 1 Axes>"
            ],
            "image/png": "[encoded data removed]"
          },
          "metadata": {},
          "execution_count": 14
        }
      ],
      "source": [
        "oracle = GetOracle()\n",
        "merged_two = ApplyGrover(oracle)\n",
        "merged_two.draw(\"mpl\")"
      ]
    },
    {
      "cell_type": "markdown",
      "metadata": {
        "id": "BRikd8QIGUwz"
      },
      "source": [
        "# Amplificação com hadamart\n",
        "(Hadamart > Grover Operator)"
      ]
    },
    {
      "cell_type": "code",
      "execution_count": null,
      "metadata": {
        "id": "QpQgxNOFuDwe"
      },
      "outputs": [],
      "source": [
        "def AmplifyWithHadamart(qc, oracle):\n",
        "  for i in range(QUBIT_QTY):\n",
        "    qc.h(i)\n",
        "\n",
        "  qc.compose(oracle, inplace=True)\n",
        "  return qc"
      ]
    },
    {
      "cell_type": "markdown",
      "metadata": {
        "id": "ilIwBa2bGefe"
      },
      "source": [
        "# Montagem do circuito\n",
        "\n",
        "Hadamart -> Grover and Oracle -> Measure"
      ]
    },
    {
      "cell_type": "code",
      "execution_count": null,
      "metadata": {
        "id": "J49P8FfYuBgG",
        "colab": {
          "base_uri": "https://localhost:8080/",
          "height": 320
        },
        "outputId": "6c30cea1-fe49-4c75-dfee-dae374abacab"
      },
      "outputs": [
        {
          "output_type": "execute_result",
          "data": {
            "text/plain": [
              "<Figure size 1332.89x367.889 with 1 Axes>"
            ],
            "image/png": "[encoded data removed]"
          },
          "metadata": {},
          "execution_count": 16
        }
      ],
      "source": [
        "# Using Our Grover Operator\n",
        "sat_problem = QuantumCircuit(QUBIT_QTY, name=f\"Circuit for our {CLAUSES_QTY}-sat problem\")\n",
        "\n",
        "oracle = GetOracle()\n",
        "groverCircuit = ApplyGrover(oracle)\n",
        "AmplifyWithHadamart(sat_problem, groverCircuit)\n",
        "\n",
        "sat_problem.measure_all()\n",
        "sat_problem.draw(\"mpl\")"
      ]
    },
    {
      "cell_type": "code",
      "execution_count": null,
      "metadata": {
        "id": "MUl3b5ZgxDiX",
        "colab": {
          "base_uri": "https://localhost:8080/",
          "height": 59
        },
        "outputId": "6b0a57b1-2ec6-43cd-f273-6d2a8815669c"
      },
      "outputs": [
        {
          "output_type": "execute_result",
          "data": {
            "text/plain": [
              "<IPython.core.display.Latex object>"
            ],
            "text/latex": "$$\n\\text{Vetor de Estados} = \n\\begin{bmatrix}\n-0.5303300859 & 0.1767766953 & 0.1767766953 & -0.5303300859 & 0.1767766953 & -0.5303300859 & 0.1767766953 & 0.1767766953  \\\\\n \\end{bmatrix}\n$$"
          },
          "metadata": {},
          "execution_count": 17
        }
      ],
      "source": [
        "# Aqui podemos imprimir o vetor de estados facilmente\n",
        "def PrintStateVector(qc: QuantumCircuit) -> Statevector:\n",
        "    qc.remove_final_measurements()\n",
        "    statevector = Statevector(qc)\n",
        "    sat_problem.measure_all()\n",
        "    return array_to_latex(statevector, prefix=\"\\\\text{Vetor de Estados} = \")\n",
        "PrintStateVector(sat_problem)"
      ]
    },
    {
      "cell_type": "markdown",
      "metadata": {
        "id": "lEMKWQA7Gq1c"
      },
      "source": [
        "# Montagem do circuito usando o Qiskit para criar o oráculo (para fins de comparação)"
      ]
    },
    {
      "cell_type": "code",
      "execution_count": null,
      "metadata": {
        "colab": {
          "base_uri": "https://localhost:8080/",
          "height": 332
        },
        "id": "39DQncPhCshQ",
        "outputId": "4b1c5140-bd43-4f64-de24-b5a19c80a91d"
      },
      "outputs": [
        {
          "output_type": "execute_result",
          "data": {
            "text/plain": [
              "<Figure size 1500.11x367.889 with 1 Axes>"
            ],
            "image/png": "[encoded data removed]"
          },
          "metadata": {},
          "execution_count": 18
        }
      ],
      "source": [
        "#Using IBM Grover\n",
        "from qiskit.circuit.library import GroverOperator\n",
        "\n",
        "sat_problem_using_ibm = QuantumCircuit(QUBIT_QTY, name=f\"Circuit for our {CLAUSES_QTY}-sat problem\")\n",
        "oracle = GetOracle()\n",
        "groverCircuit = GroverOperator(oracle).decompose()\n",
        "AmplifyWithHadamart(sat_problem_using_ibm, groverCircuit)\n",
        "sat_problem_using_ibm.measure_all()\n",
        "sat_problem_using_ibm.draw(\"mpl\")"
      ]
    },
    {
      "cell_type": "markdown",
      "metadata": {
        "id": "Po2yogOoGwWQ"
      },
      "source": [
        "# Execução do circuito"
      ]
    },
    {
      "cell_type": "code",
      "execution_count": null,
      "metadata": {
        "id": "HbZk0M_mIPyy"
      },
      "outputs": [],
      "source": [
        "backend = BasicProvider().get_backend(\"basic_simulator\")\n",
        "\n",
        "# Execução do circuito - Nosso\n",
        "transpiled = transpile(sat_problem, backend)\n",
        "qobj = assemble(transpiled)\n",
        "result = backend.run(transpiled).result()\n",
        "count = result.get_counts()\n",
        "\n",
        "# Execução do circuito - IBM - GROVER\n",
        "transpiled = transpile(sat_problem_using_ibm, backend)\n",
        "qobj = assemble(transpiled)\n",
        "resultIBM = backend.run(transpiled).result()\n",
        "countIBM = resultIBM.get_counts()"
      ]
    },
    {
      "cell_type": "markdown",
      "metadata": {
        "id": "u70p5mInwjES"
      },
      "source": [
        "# Apresentação dos resultados obtidos"
      ]
    },
    {
      "cell_type": "code",
      "execution_count": null,
      "metadata": {
        "colab": {
          "base_uri": "https://localhost:8080/",
          "height": 497
        },
        "id": "spUOBfY1DlFJ",
        "outputId": "a15fced3-5e47-4d94-f851-7f459fc354ec"
      },
      "outputs": [
        {
          "output_type": "stream",
          "name": "stdout",
          "text": [
            "{'000': 304, '101': 277, '011': 281, '100': 32, '001': 41, '111': 30, '010': 32, '110': 27}\n"
          ]
        },
        {
          "output_type": "display_data",
          "data": {
            "text/plain": [
              "<Figure size 640x480 with 1 Axes>"
            ],
            "image/png": "[encoded data removed]"
          },
          "metadata": {}
        }
      ],
      "source": [
        "# Plot\n",
        "fig, ax = plt.subplots()\n",
        "legend = [\"Nosso Operador de Grover\", \"Operador de Grover da Qsikit\"]\n",
        "title = f\"Histograma resolução do problema {CLAUSES_QTY}-sat\"\n",
        "plot_histogram([count, countIBM], color=['crimson','midnightblue'], title=title, legend=legend, bar_labels=False, ax=ax)\n",
        "\n",
        "print(count)\n",
        "plt.show()"
      ]
    },
    {
      "cell_type": "markdown",
      "metadata": {
        "id": "n0OKP1stknuY"
      },
      "source": [
        "# Comparação e Implementação brute force"
      ]
    },
    {
      "cell_type": "code",
      "execution_count": null,
      "metadata": {
        "colab": {
          "base_uri": "https://localhost:8080/"
        },
        "id": "9axcVnYKaPle",
        "outputId": "bb101766-a7b5-4a69-d36c-209c36500516"
      },
      "outputs": [
        {
          "output_type": "stream",
          "name": "stdout",
          "text": [
            "       A      B      C  Result\n",
            "0  False  False  False    True\n",
            "1  False  False   True   False\n",
            "2  False   True  False   False\n",
            "3  False   True   True   False\n",
            "4   True  False  False   False\n",
            "5   True  False   True    True\n",
            "6   True   True  False    True\n",
            "7   True   True   True   False\n"
          ]
        }
      ],
      "source": [
        "def generate_truth_table(expression):\n",
        "    variables = sorted(set([char for char in expression if char.isalpha()]))\n",
        "    expression = expression.replace(\"~\", \" not \")\n",
        "    expression = expression.replace(\"&\", \" and \")\n",
        "    expression = expression.replace(\"|\", \" or \")\n",
        "    rows = []\n",
        "    for combination in itertools.product([False, True], repeat=len(variables)):\n",
        "        variables_dict = {}\n",
        "        for i in range(len(variables)):\n",
        "          variables_dict[variables[i]] = combination[i]\n",
        "        result = eval(expression, variables_dict)\n",
        "        row_values = list(combination) + [result]\n",
        "        rows.append(row_values)\n",
        "\n",
        "    columns = variables + [expression]\n",
        "    truth_table = pd.DataFrame(rows, columns=columns)\n",
        "    truth_table = truth_table.rename(columns={truth_table.columns[-1]: 'Result'})\n",
        "    return truth_table\n",
        "\n",
        "# Exemplo de uso:\n",
        "brute_force_truth_table = generate_truth_table(EXPRESSION)\n",
        "print(brute_force_truth_table)"
      ]
    },
    {
      "cell_type": "code",
      "execution_count": null,
      "metadata": {
        "colab": {
          "base_uri": "https://localhost:8080/"
        },
        "id": "1fEVANaAksZg",
        "outputId": "071bcc94-7b4a-47ee-9952-b54f6e6dd750"
      },
      "outputs": [
        {
          "output_type": "stream",
          "name": "stdout",
          "text": [
            "SOLUÇÃO BRUTE FORCE:  {'SAT': ['000', '101', '110'], 'UNSAT': ['001', '010', '011', '100', '111']}\n"
          ]
        }
      ],
      "source": [
        "# Conversão de cada linha para uma lista de strings\n",
        "def GetRowValuesAsList(df):\n",
        "  string_list = []\n",
        "  for index, row in df.iterrows():  # Excluindo a última linha\n",
        "      string_values = ['1' if value else '0' for value in row[:-1]]  # Convertendo valores booleanos em strings 'True' ou 'False'\n",
        "      string_list.append(''.join(string_values))  # Unindo os valores em uma única string e adicionando à lista\n",
        "  string_list.sort()\n",
        "  return string_list\n",
        "\n",
        "# Captura dos dados que resultam em true || false no data frame obtido\n",
        "def GetBruteForceResults(df):\n",
        "  sat_brute_force = (brute_force_truth_table[brute_force_truth_table['Result'] == True])\n",
        "  unsat_brute_force = (brute_force_truth_table[brute_force_truth_table['Result'] == False])\n",
        "\n",
        "  sat_brute_force = GetRowValuesAsList(sat_brute_force)\n",
        "  unsat_brute_force = GetRowValuesAsList(unsat_brute_force)\n",
        "  return { \"SAT\" : sat_brute_force , \"UNSAT\" : unsat_brute_force}\n",
        "\n",
        "brute_force_results = GetBruteForceResults(generate_truth_table(EXPRESSION))\n",
        "print(\"SOLUÇÃO BRUTE FORCE: \", brute_force_results,)"
      ]
    },
    {
      "cell_type": "code",
      "execution_count": null,
      "metadata": {
        "colab": {
          "base_uri": "https://localhost:8080/"
        },
        "id": "g7l-oZUBiDg1",
        "outputId": "76b5b538-6b1d-437b-b70c-461a3f30efd5"
      },
      "outputs": [
        {
          "output_type": "stream",
          "name": "stdout",
          "text": [
            "NOSSA SOLUÇÃO:  {'SAT': ['000', '101', '110'], 'UNSAT': ['001', '010', '011', '100', '111']}\n"
          ]
        }
      ],
      "source": [
        "# Resultado do nosso circuito\n",
        "def GetResults():\n",
        "  median = statistics.mean([value for _, value in count.items()])\n",
        "  results_sat = [key for key, value in count.items() if value >= median]\n",
        "  results_unsat =  [key for key, _ in count.items() if key not in results_sat]\n",
        "\n",
        "  results_sat = [key[::-1] for key in results_sat]\n",
        "  results_unsat = [key[::-1] for key in results_unsat]\n",
        "\n",
        "  results_sat.sort()\n",
        "  results_unsat.sort()\n",
        "  return { \"SAT\" : results_sat , \"UNSAT\" : results_unsat}\n",
        "\n",
        "results = GetResults()\n",
        "print(\"NOSSA SOLUÇÃO: \", results)"
      ]
    },
    {
      "cell_type": "code",
      "execution_count": null,
      "metadata": {
        "colab": {
          "base_uri": "https://localhost:8080/"
        },
        "id": "ifsVBQq4sIrZ",
        "outputId": "0c7837ed-95df-4a16-a093-b88d4c941a0a"
      },
      "outputs": [
        {
          "output_type": "stream",
          "name": "stdout",
          "text": [
            "FORÇA BRUTA: \t {'SAT': ['000', '101', '110'], 'UNSAT': ['001', '010', '011', '100', '111']}\n",
            "NOSSA SOLUÇÃO: \t {'SAT': ['000', '101', '110'], 'UNSAT': ['001', '010', '011', '100', '111']}\n",
            "Resultados obtidos de satisfação são iguais aos obtidos em força bruta\n"
          ]
        }
      ],
      "source": [
        "brute_force_results = GetBruteForceResults(generate_truth_table(EXPRESSION))\n",
        "print(\"FORÇA BRUTA: \\t\", brute_force_results)\n",
        "\n",
        "shouldIterate = False\n",
        "results = GetResults()\n",
        "print(\"NOSSA SOLUÇÃO: \\t\", results)\n",
        "if (results[\"SAT\"] == brute_force_results[\"UNSAT\"]):\n",
        "    print(\"Resultados obtidos de satisfação são iguais aos obtidos de NÃO SATISFAÇÃO em força bruta\")\n",
        "if (results[\"SAT\"] == brute_force_results[\"SAT\"]):\n",
        "    print(\"Resultados obtidos de satisfação são iguais aos obtidos em força bruta\")\n",
        "else:\n",
        "  from google.colab import output\n",
        "  js_code = '''alert(\"Algo Terrivel Aconteceu! Os resultados não batem de nenhuma forma. Iremos começar iteração\");'''\n",
        "  output.eval_js(js_code)\n",
        "  print(\"Nenhum resultado bate com apenas uma iteração\")\n",
        "  shouldIterate = True"
      ]
    },
    {
      "cell_type": "markdown",
      "metadata": {
        "id": "H0TYFzYNBz_5"
      },
      "source": [
        "# Testes com iteração\n",
        "\n",
        "\n"
      ]
    },
    {
      "cell_type": "code",
      "execution_count": null,
      "metadata": {
        "id": "mUPMndqb8nN9"
      },
      "outputs": [],
      "source": [
        "# Execução do circuito - 1000 iteracoes\n",
        "num_iterations = 1000\n",
        "def Iterate():\n",
        "  brute_force_results = GetBruteForceResults(generate_truth_table(EXPRESSION))\n",
        "  for i in range(num_iterations):\n",
        "    sat_problem_using_ibm = QuantumCircuit(QUBIT_QTY, name=f\"Circuit for our {CLAUSES_QTY}-sat problem\")\n",
        "    oracle = GetOracle()\n",
        "    groverCircuit = GroverOperator(oracle).decompose()\n",
        "    AmplifyWithHadamart(sat_problem_using_ibm, groverCircuit)\n",
        "    sat_problem_using_ibm.measure_all()\n",
        "    transpiled = transpile(sat_problem, backend)\n",
        "    qobj = assemble(transpiled)\n",
        "    result = backend.run(transpiled).result()\n",
        "    count = result.get_counts()\n",
        "\n",
        "    results = GetResults()\n",
        "    if (results[\"SAT\"] == brute_force_results[\"UNSAT\"]):\n",
        "      # print(\"Resultados obtidos de satisfação são iguais aos obtidos de NÃO SATISFAÇÃO em força bruta\")\n",
        "      break\n",
        "    if (results[\"SAT\"] == brute_force_results[\"SAT\"]):\n",
        "      # print(\"Resultados obtidos de satisfação são iguais aos obtidos em força bruta\")\n",
        "      break\n",
        "    if i == num_iterations-1:\n",
        "      from google.colab import output\n",
        "      js_code = '''alert(\"Algo Terrivel Aconteceu! Os resultados não batem de nenhuma forma. Iremos começar iteração\");'''\n",
        "      output.eval_js(js_code)\n",
        "      print(f\"Nenhum resultado bate mesmo iterando {num_iterations} vezes\")\n",
        "  # print(\"FINISH\")"
      ]
    },
    {
      "cell_type": "code",
      "execution_count": null,
      "metadata": {
        "id": "jDLZ9hdXCV_H"
      },
      "outputs": [],
      "source": [
        "for i in range(1000):\n",
        "  CLAUSES_QTY = 3\n",
        "  QUBIT_QTY = CLAUSES_QTY\n",
        "  random_expr = GenerateSatExpression(CLAUSES_QTY)\n",
        "  EXPRESSION = random_expr\n",
        "  Iterate()"
      ]
    },
    {
      "cell_type": "code",
      "execution_count": null,
      "metadata": {
        "id": "BGmjZaHQDBcW"
      },
      "outputs": [],
      "source": [
        "if (shouldIterate):\n",
        "  Iterate()"
      ]
    }
  ],
  "metadata": {
    "colab": {
      "provenance": [],
      "toc_visible": true
    },
    "kernelspec": {
      "display_name": "Python 3",
      "name": "python3"
    },
    "language_info": {
      "codemirror_mode": {
        "name": "ipython",
        "version": 3
      },
      "file_extension": ".py",
      "mimetype": "text/x-python",
      "name": "python",
      "nbconvert_exporter": "python",
      "pygments_lexer": "ipython3",
      "version": "3.11.3"
    }
  },
  "nbformat": 4,
  "nbformat_minor": 0
}