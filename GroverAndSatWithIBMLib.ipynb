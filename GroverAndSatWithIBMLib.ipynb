{
  "cells": [
    {
      "cell_type": "markdown",
      "metadata": {
        "id": "Gp2Wp63q-HRO"
      },
      "source": [
        "## Giancarlo's Implementation\n",
        "https://github.com/giangamberi/Estudo-de-algoritmos-quanticos-e-suas-implementacoes/blob/main/EAQSI.ipynb\n",
        "https://dspace.mackenzie.br/items/071a8df2-1a8f-45c2-ab22-49749d06479b"
      ]
    },
    {
      "cell_type": "code",
      "source": [
        "!pip install qiskit-aer\n",
        "!pip install qiskit\n",
        "!pip install qiskit-ibm-runtime\n",
        "!pip install qiskit_aer\n",
        "!pip install pylatexenc\n",
        "!pip install tweedledum\n",
        "!pip install qiskit-algorithms\n"
      ],
      "metadata": {
        "id": "tUujYpE6-UKp"
      },
      "execution_count": null,
      "outputs": []
    },
    {
      "cell_type": "code",
      "execution_count": null,
      "metadata": {
        "id": "lK3y-lJK-HRP"
      },
      "outputs": [],
      "source": [
        "import numpy as np\n",
        "from qiskit import QuantumCircuit, transpile, assemble\n",
        "from qiskit_aer import AerProvider, AerSimulator\n",
        "from qiskit.quantum_info import Statevector\n",
        "\n",
        "from qiskit.providers.basic_provider import BasicProvider\n",
        "from qiskit.quantum_info import Statevector\n",
        "\n",
        "from qiskit.circuit.library import DiagonalGate\n",
        "from qiskit.circuit.library import Diagonal\n",
        "from qiskit.quantum_info import SparsePauliOp\n",
        "from qiskit.transpiler.preset_passmanagers import generate_preset_pass_manager\n",
        "from qiskit_ibm_runtime import QiskitRuntimeService, EstimatorV2 as Estimator\n",
        "from qiskit.circuit.library import PhaseOracle\n",
        "\n",
        "#plot\n",
        "from qiskit.visualization import plot_histogram\n",
        "from qiskit.visualization import plot_bloch_multivector\n",
        "from qiskit.visualization import array_to_latex\n",
        "\n",
        "# Output\n",
        "outputType = \"mpl\"\n",
        "\n",
        "def convertDiagonal(number, qubits):\n",
        "    diagonalSize = pow(2,qubits)\n",
        "    if (diagonalSize < number - 1): return -1\n",
        "    aux = np.ones(diagonalSize, dtype=int) # Criacao um array do tamanho da qtd de 2 qubits\n",
        "    aux[number] = -1\n",
        "    return aux\n",
        "\n",
        "def startSobreposition(qc: QuantumCircuit, qubits: list):\n",
        "    for q in qubits: qc.h(q)\n",
        "    return qc\n",
        "\n",
        "\n",
        "# Aqui podemos imprimir o vetor de estados facilmente\n",
        "def printStateVector(qc: QuantumCircuit) -> Statevector:\n",
        "    qc.remove_final_measurements()  # no measurements allowed\n",
        "    statevector = Statevector(qc)\n",
        "    return array_to_latex(statevector, prefix=\"\\\\text{Statevector} = \")\n",
        "\n",
        "def difusionMatrix(qc: QuantumCircuit, qubits: list, qubit_qtd: int):\n",
        "    # Difusion => Hadamard . Diagonal . Hadamard\n",
        "    # D = W R W\n",
        "    R = np.ones(int(pow(2, len(qubits)))) # R = [1,1,1] c/ tamanho de qtd de qubits ** 2\n",
        "    for i in range(1, pow(2, qubit_qtd)):\n",
        "        R[i] = -1\n",
        "    startSobreposition(qc, qubits)\n",
        "    qc &= Diagonal(list(R))\n",
        "    startSobreposition(qc, qubits)\n",
        "    return qc\n",
        "\n",
        "\n"
      ]
    },
    {
      "cell_type": "code",
      "execution_count": null,
      "metadata": {
        "colab": {
          "base_uri": "https://localhost:8080/",
          "height": 38
        },
        "id": "PBMO3ZYp-HRQ",
        "outputId": "fba6a026-b3c3-4a07-8b77-5004aec44ccd"
      },
      "outputs": [
        {
          "output_type": "execute_result",
          "data": {
            "text/plain": [
              "<IPython.core.display.Latex object>"
            ],
            "text/latex": "$$\n\\text{Diagonal} = \n\\begin{bmatrix}\n-1 & 1 & 1 & 1 & \\cdots & 1 & 1 & 1  \\\\\n \\end{bmatrix}\n$$"
          },
          "metadata": {},
          "execution_count": 6
        }
      ],
      "source": [
        "# Montagem da diagonal\n",
        "qubit_qtd = 4\n",
        "allQbits = [i for i in range(qubit_qtd)]\n",
        "\n",
        "targetNumber = 0 # estado 100\n",
        "groverDiagonal = list(convertDiagonal(targetNumber, qubit_qtd))\n",
        "array_to_latex(groverDiagonal, prefix=\"\\\\text{Diagonal} = \")\n"
      ]
    },
    {
      "cell_type": "code",
      "execution_count": null,
      "metadata": {
        "colab": {
          "base_uri": "https://localhost:8080/"
        },
        "id": "yPUU8JEF-HRQ",
        "outputId": "e67892ac-a5b6-4c31-f36b-3bdee4fa08bf"
      },
      "outputs": [
        {
          "output_type": "stream",
          "name": "stdout",
          "text": [
            "                     \n",
            "q_0: ─■───────o──────\n",
            "      │ ┌───┐ │ ┌───┐\n",
            "q_1: ─■─┤ X ├─■─┤ X ├\n",
            "      │ └───┘   └───┘\n",
            "q_2: ─o───────■──────\n",
            "      │ ┌───┐ │      \n",
            "q_3: ─o─┤ Z ├─o──────\n",
            "        └───┘        \n"
          ]
        }
      ],
      "source": [
        "# Montagem do circuito inicial: Hadamard -> Diagonal\n",
        "\n",
        "\n",
        "# algoritmoGrover = QuantumCircuit(qubit_qtd)\n",
        "# algoritmoGrover = startSobreposition(algoritmoGrover, allQbits)\n",
        "# algoritmoGrover &= Diagonal(groverDiagonal)\n",
        "\n",
        "algoritmoGrover = PhaseOracle.from_dimacs_file(\"expressio.cnf\")\n",
        "\n",
        "print(algoritmoGrover.draw())"
      ]
    },
    {
      "cell_type": "markdown",
      "metadata": {
        "id": "cJUH6UeE-HRR"
      },
      "source": [
        "# Vetor de Estados obtido após a construção do circuito"
      ]
    },
    {
      "cell_type": "code",
      "execution_count": null,
      "metadata": {
        "colab": {
          "base_uri": "https://localhost:8080/",
          "height": 38
        },
        "id": "Om99ylPt-HRR",
        "outputId": "a3ab615c-99bf-4ef5-e67d-a22e41248e04"
      },
      "outputs": [
        {
          "output_type": "execute_result",
          "data": {
            "text/plain": [
              "<IPython.core.display.Latex object>"
            ],
            "text/latex": "$$\n\\text{Statevector} = \n\\begin{bmatrix}\n- \\frac{1}{4} & \\frac{1}{4} & \\frac{1}{4} & \\frac{1}{4} & \\cdots & \\frac{1}{4} & \\frac{1}{4} & \\frac{1}{4}  \\\\\n \\end{bmatrix}\n$$"
          },
          "metadata": {},
          "execution_count": 5
        }
      ],
      "source": [
        "printStateVector(algoritmoGrover)"
      ]
    },
    {
      "cell_type": "code",
      "execution_count": null,
      "metadata": {
        "colab": {
          "base_uri": "https://localhost:8080/"
        },
        "id": "yBoc3Yfq-HRR",
        "outputId": "01ad60b9-0e1a-4e32-ec4f-03e696580758"
      },
      "outputs": [
        {
          "output_type": "stream",
          "name": "stdout",
          "text": [
            "     ┌───┐┌───────────┐┌───┐\n",
            "q_0: ┤ H ├┤0          ├┤ H ├\n",
            "     ├───┤│           │├───┤\n",
            "q_1: ┤ H ├┤1          ├┤ H ├\n",
            "     ├───┤│  Diagonal │├───┤\n",
            "q_2: ┤ H ├┤2          ├┤ H ├\n",
            "     ├───┤│           │├───┤\n",
            "q_3: ┤ H ├┤3          ├┤ H ├\n",
            "     └───┘└───────────┘└───┘\n"
          ]
        }
      ],
      "source": [
        "# Criação da matriz de difusão\n",
        "# W R W\n",
        "mtx = QuantumCircuit(qubit_qtd)\n",
        "mtx.Name = \"difusionMatrix\"\n",
        "print(difusionMatrix(mtx, allQbits, qubit_qtd))\n"
      ]
    },
    {
      "cell_type": "code",
      "execution_count": null,
      "metadata": {
        "colab": {
          "base_uri": "https://localhost:8080/",
          "height": 417
        },
        "id": "1KSmyi3R-HRR",
        "outputId": "1e73db5c-4f3a-4e63-9900-89c954829901"
      },
      "outputs": [
        {
          "output_type": "execute_result",
          "data": {
            "text/plain": [
              "                         ┌──────────────┐ ░ ┌─┐         ┌──────────────┐ ░ ┌─┐»\n",
              "    q_0: ─■───────o──────┤0             ├─░─┤M├─────────┤0             ├─░─┤M├»\n",
              "          │ ┌───┐ │ ┌───┐│              │ ░ └╥┘┌─┐      │              │ ░ └╥┘»\n",
              "    q_1: ─■─┤ X ├─■─┤ X ├┤1             ├─░──╫─┤M├──────┤1             ├─░──╫─»\n",
              "          │ └───┘   └───┘│  circuit-194 │ ░  ║ └╥┘┌─┐   │  circuit-194 │ ░  ║ »\n",
              "    q_2: ─o───────■──────┤2             ├─░──╫──╫─┤M├───┤2             ├─░──╫─»\n",
              "          │ ┌───┐ │      │              │ ░  ║  ║ └╥┘┌─┐│              │ ░  ║ »\n",
              "    q_3: ─o─┤ Z ├─o──────┤3             ├─░──╫──╫──╫─┤M├┤3             ├─░──╫─»\n",
              "            └───┘        └──────────────┘ ░  ║  ║  ║ └╥┘└──────────────┘ ░  ║ »\n",
              " meas: 4/════════════════════════════════════╩══╩══╩══╩═════════════════════╬═»\n",
              "                                             0  1  2  3                     ║ »\n",
              "meas1: 4/═══════════════════════════════════════════════════════════════════╩═»\n",
              "                                                                            0 »\n",
              "«                  \n",
              "«    q_0: ─────────\n",
              "«         ┌─┐      \n",
              "«    q_1: ┤M├──────\n",
              "«         └╥┘┌─┐   \n",
              "«    q_2: ─╫─┤M├───\n",
              "«          ║ └╥┘┌─┐\n",
              "«    q_3: ─╫──╫─┤M├\n",
              "«          ║  ║ └╥┘\n",
              "« meas: 4/═╬══╬══╬═\n",
              "«          ║  ║  ║ \n",
              "«meas1: 4/═╩══╩══╩═\n",
              "«          1  2  3 "
            ],
            "text/html": [
              "<pre style=\"word-wrap: normal;white-space: pre;background: #fff0;line-height: 1.1;font-family: &quot;Courier New&quot;,Courier,monospace\">                         ┌──────────────┐ ░ ┌─┐         ┌──────────────┐ ░ ┌─┐»\n",
              "    q_0: ─■───────o──────┤0             ├─░─┤M├─────────┤0             ├─░─┤M├»\n",
              "          │ ┌───┐ │ ┌───┐│              │ ░ └╥┘┌─┐      │              │ ░ └╥┘»\n",
              "    q_1: ─■─┤ X ├─■─┤ X ├┤1             ├─░──╫─┤M├──────┤1             ├─░──╫─»\n",
              "          │ └───┘   └───┘│  circuit-194 │ ░  ║ └╥┘┌─┐   │  circuit-194 │ ░  ║ »\n",
              "    q_2: ─o───────■──────┤2             ├─░──╫──╫─┤M├───┤2             ├─░──╫─»\n",
              "          │ ┌───┐ │      │              │ ░  ║  ║ └╥┘┌─┐│              │ ░  ║ »\n",
              "    q_3: ─o─┤ Z ├─o──────┤3             ├─░──╫──╫──╫─┤M├┤3             ├─░──╫─»\n",
              "            └───┘        └──────────────┘ ░  ║  ║  ║ └╥┘└──────────────┘ ░  ║ »\n",
              " meas: 4/════════════════════════════════════╩══╩══╩══╩═════════════════════╬═»\n",
              "                                             0  1  2  3                     ║ »\n",
              "meas1: 4/═══════════════════════════════════════════════════════════════════╩═»\n",
              "                                                                            0 »\n",
              "«                  \n",
              "«    q_0: ─────────\n",
              "«         ┌─┐      \n",
              "«    q_1: ┤M├──────\n",
              "«         └╥┘┌─┐   \n",
              "«    q_2: ─╫─┤M├───\n",
              "«          ║ └╥┘┌─┐\n",
              "«    q_3: ─╫──╫─┤M├\n",
              "«          ║  ║ └╥┘\n",
              "« meas: 4/═╬══╬══╬═\n",
              "«          ║  ║  ║ \n",
              "«meas1: 4/═╩══╩══╩═\n",
              "«          1  2  3 </pre>"
            ]
          },
          "metadata": {},
          "execution_count": 27
        }
      ],
      "source": [
        "# Aplicando matriz de difusao de Grover ao circuito\n",
        "algoritmoGrover.append(mtx, allQbits)\n",
        "algoritmoGrover.measure_all()\n",
        "algoritmoGrover.draw()"
      ]
    },
    {
      "cell_type": "code",
      "execution_count": null,
      "metadata": {
        "colab": {
          "base_uri": "https://localhost:8080/",
          "height": 484
        },
        "id": "fox4iKkm-HRR",
        "outputId": "881d4371-83da-4cbd-8bf0-0abeb639c61e"
      },
      "outputs": [
        {
          "output_type": "execute_result",
          "data": {
            "text/plain": [
              "<Figure size 700x500 with 1 Axes>"
            ],
            "image/png": "[encoded data removed]"
          },
          "metadata": {},
          "execution_count": 26
        }
      ],
      "source": [
        "# Plot do resultado\n",
        "backend = BasicProvider().get_backend(\"basic_simulator\")\n",
        "\n",
        "\n",
        "transpiled_algoritmoGrover = transpile(algoritmoGrover, backend)\n",
        "qobj = assemble(transpiled_algoritmoGrover)\n",
        "result = backend.run(transpiled_algoritmoGrover).result()\n",
        "count = result.get_counts()\n",
        "plot_histogram(count)"
      ]
    },
    {
      "cell_type": "code",
      "source": [
        "# Experimentos\n",
        "from qiskit.circuit.library import GroverOperator\n",
        "from qiskit.primitives import BackendSampler\n",
        "from qiskit_algorithms import Grover\n",
        "\n",
        "\n",
        "\n",
        "oracle = PhaseOracle.from_dimacs_file(\"expressio.cnf\")\n",
        "\n",
        "grover = GroverOperator(oracle)\n",
        "grover.decompose().draw()\n",
        "\n",
        "\n",
        "result = transpile(grover.decompose(), backend)\n",
        "job = backend.run(result)\n",
        "\n",
        "\n",
        "# sampler = BackendSampler(backend)\n",
        "# job = sampler.run(grover)"
      ],
      "metadata": {
        "colab": {
          "base_uri": "https://localhost:8080/"
        },
        "id": "84pKQ12dIq5e",
        "outputId": "9520575b-fa45-42a3-f053-77da83535394"
      },
      "execution_count": null,
      "outputs": [
        {
          "output_type": "stream",
          "name": "stderr",
          "text": [
            "WARNING:qiskit.providers.basic_provider.basic_simulator:No classical registers in circuit \"Q\", counts will be empty.\n"
          ]
        }
      ]
    },
    {
      "cell_type": "code",
      "source": [
        "# Experimentos 2\n",
        "# Experimentos\n",
        "from qiskit.circuit.library import GroverOperator\n",
        "from qiskit.primitives import BackendSampler\n",
        "from qiskit.primitives import Sampler\n",
        "from qiskit_algorithms import Grover, AmplificationProblem\n",
        "\n",
        "\n",
        "\n",
        "oracle = PhaseOracle.from_dimacs_file(\"expressio.cnf\")\n",
        "\n",
        "\n",
        "sampler = Sampler()\n",
        "\n",
        "problem = AmplificationProblem(oracle)\n",
        "grover = Grover(sampler = sampler, iterations=1204)\n",
        "result = grover.amplify(problem)\n",
        "result.circuit_results"
      ],
      "metadata": {
        "colab": {
          "base_uri": "https://localhost:8080/"
        },
        "id": "-Mxpqd2uQGnj",
        "outputId": "fab41b63-b8fc-451a-d2cc-e652c4a4896a"
      },
      "execution_count": null,
      "outputs": [
        {
          "output_type": "execute_result",
          "data": {
            "text/plain": [
              "[{'0000': 0.0767033004737965,\n",
              "  '0001': 0.0312527389571839,\n",
              "  '0010': 0.0312527389571858,\n",
              "  '0011': 0.0767033004737955,\n",
              "  '0100': 0.0312527389571841,\n",
              "  '0101': 0.0767033004737958,\n",
              "  '0110': 0.0767033004737966,\n",
              "  '0111': 0.076703300473797,\n",
              "  '1000': 0.0312527389571848,\n",
              "  '1001': 0.0767033004737945,\n",
              "  '1010': 0.076703300473794,\n",
              "  '1011': 0.0767033004737952,\n",
              "  '1100': 0.0312527389571846,\n",
              "  '1101': 0.076703300473795,\n",
              "  '1110': 0.0767033004737925,\n",
              "  '1111': 0.0767033004737949}]"
            ]
          },
          "metadata": {},
          "execution_count": 23
        }
      ]
    },
    {
      "cell_type": "code",
      "source": [
        "  display(plot_histogram(result.circuit_results))\n",
        "  # respostas satisfatorias"
      ],
      "metadata": {
        "colab": {
          "base_uri": "https://localhost:8080/",
          "height": 484
        },
        "id": "zwQIQrBnRtc7",
        "outputId": "3fc64730-a1ac-4e38-dc27-f53e872e889b"
      },
      "execution_count": null,
      "outputs": [
        {
          "output_type": "display_data",
          "data": {
            "text/plain": [
              "<Figure size 700x500 with 1 Axes>"
            ],
            "image/png": "[encoded data removed]"
          },
          "metadata": {}
        }
      ]
    }
  ],
  "metadata": {
    "kernelspec": {
      "display_name": "base",
      "language": "python",
      "name": "python3"
    },
    "language_info": {
      "codemirror_mode": {
        "name": "ipython",
        "version": 3
      },
      "file_extension": ".py",
      "mimetype": "text/x-python",
      "name": "python",
      "nbconvert_exporter": "python",
      "pygments_lexer": "ipython3",
      "version": "3.11.3"
    },
    "colab": {
      "provenance": [],
      "toc_visible": true
    }
  },
  "nbformat": 4,
  "nbformat_minor": 0
}