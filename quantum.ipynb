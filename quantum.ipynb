{
 "cells": [
  {
   "cell_type": "markdown",
   "metadata": {},
   "source": [
    "## Giancarlo's Implementation\n",
    "https://github.com/giangamberi/Estudo-de-algoritmos-quanticos-e-suas-implementacoes/blob/main/EAQSI.ipynb",
    "https://dspace.mackenzie.br/items/071a8df2-1a8f-45c2-ab22-49749d06479b"
   ]
  },
  {
   "cell_type": "code",
   "execution_count": 98,
   "metadata": {},
   "outputs": [],
   "source": [
    "import numpy as np\n",
    "from qiskit import QuantumCircuit, transpile, assemble\n",
    "from qiskit_aer import AerProvider, AerSimulator\n",
    "from qiskit.quantum_info import Statevector\n",
    "\n",
    "from qiskit.providers.basic_provider import BasicProvider\n",
    "from qiskit.quantum_info import Statevector\n",
    "\n",
    "from qiskit.circuit.library import DiagonalGate\n",
    "from qiskit.circuit.library import Diagonal\n",
    "from qiskit.quantum_info import SparsePauliOp\n",
    "from qiskit.transpiler.preset_passmanagers import generate_preset_pass_manager\n",
    "from qiskit_ibm_runtime import QiskitRuntimeService, EstimatorV2 as Estimator\n",
    "\n",
    "#plot\n",
    "from qiskit.visualization import plot_histogram\n",
    "from qiskit.visualization import plot_bloch_multivector\n",
    "from qiskit.visualization import array_to_latex\n",
    "\n",
    "def convertDiagonal(number, qubits):\n",
    "    diagonalSize = pow(2,qubits)\n",
    "    if (diagonalSize < number - 1): return -1 \n",
    "    aux = np.ones(diagonalSize, dtype=int) # Criacao um array do tamanho da qtd de 2 qubits \n",
    "    aux[number] = -1\n",
    "    return aux\n",
    "\n",
    "def startSobreposition(qc: QuantumCircuit, qubits: list):\n",
    "    for q in qubits: qc.h(q)\n",
    "    return qc\n",
    "\n",
    "\n",
    "# Aqui podemos imprimir o vetor de estados facilmente\n",
    "def printStateVector(qc: QuantumCircuit) -> Statevector:\n",
    "    qc.remove_final_measurements()  # no measurements allowed\n",
    "    statevector = Statevector(qc)\n",
    "    return array_to_latex(statevector, prefix=\"\\\\text{Statevector} = \")\n",
    "\n",
    "def difusionMatrix(qc: QuantumCircuit, qubits: list, qubit_qtd: int):\n",
    "    # Difusion => Hadamard . Diagonal . Hadamard\n",
    "    # D = W R W\n",
    "    R = np.ones(int(pow(2, len(qubits)))) # R = [1,1,1] c/ tamanho de qtd de qubits ** 2\n",
    "    for i in range(1, pow(2, qubit_qtd)):\n",
    "        R[i] = -1\n",
    "    startSobreposition(qc, qubits)\n",
    "    qc &= Diagonal(list(R))\n",
    "    startSobreposition(qc, qubits)\n",
    "    return qc\n",
    "\n",
    "\n"
   ]
  },
  {
   "cell_type": "code",
   "execution_count": 99,
   "metadata": {},
   "outputs": [
    {
     "data": {
      "text/latex": [
       "$$\n",
       "\\text{Diagonal} = \n",
       "\\begin{bmatrix}\n",
       "-1 & 1 & 1 & 1 & 1 & 1 & 1 & 1  \\\\\n",
       " \\end{bmatrix}\n",
       "$$"
      ],
      "text/plain": [
       "<IPython.core.display.Latex object>"
      ]
     },
     "execution_count": 99,
     "metadata": {},
     "output_type": "execute_result"
    }
   ],
   "source": [
    "# Montagem da diagonal\n",
    "qubit_qtd = 3\n",
    "allQbits = [i for i in range(qubit_qtd)]\n",
    "\n",
    "targetNumber = 0 # estado 100\n",
    "groverDiagonal = list(convertDiagonal(targetNumber, qubit_qtd))\n",
    "array_to_latex(groverDiagonal, prefix=\"\\\\text{Diagonal} = \")\n"
   ]
  },
  {
   "cell_type": "code",
   "execution_count": 100,
   "metadata": {},
   "outputs": [
    {
     "name": "stdout",
     "output_type": "stream",
     "text": [
      "     ┌───┐┌───────────┐\n",
      "q_0: ┤ H ├┤0          ├\n",
      "     ├───┤│           │\n",
      "q_1: ┤ H ├┤1 Diagonal ├\n",
      "     ├───┤│           │\n",
      "q_2: ┤ H ├┤2          ├\n",
      "     └───┘└───────────┘\n"
     ]
    }
   ],
   "source": [
    "# Montagem do circuito inicial: Hadamard -> Diagonal\n",
    "\n",
    "\n",
    "algoritmoGrover = QuantumCircuit(qubit_qtd)\n",
    "algoritmoGrover = startSobreposition(algoritmoGrover, allQbits)\n",
    "algoritmoGrover &= Diagonal(groverDiagonal)\n",
    "\n",
    "print(algoritmoGrover)\n"
   ]
  },
  {
   "cell_type": "markdown",
   "metadata": {},
   "source": [
    "# Vetor de Estados obtido após a construção do circuito"
   ]
  },
  {
   "cell_type": "code",
   "execution_count": 101,
   "metadata": {},
   "outputs": [
    {
     "data": {
      "text/latex": [
       "$$\n",
       "\\text{Statevector} = \n",
       "\\begin{bmatrix}\n",
       "- \\frac{\\sqrt{2}}{4} & \\frac{\\sqrt{2}}{4} & \\frac{\\sqrt{2}}{4} & \\frac{\\sqrt{2}}{4} & \\frac{\\sqrt{2}}{4} & \\frac{\\sqrt{2}}{4} & \\frac{\\sqrt{2}}{4} & \\frac{\\sqrt{2}}{4}  \\\\\n",
       " \\end{bmatrix}\n",
       "$$"
      ],
      "text/plain": [
       "<IPython.core.display.Latex object>"
      ]
     },
     "execution_count": 101,
     "metadata": {},
     "output_type": "execute_result"
    }
   ],
   "source": [
    "printStateVector(algoritmoGrover)"
   ]
  },
  {
   "cell_type": "code",
   "execution_count": 102,
   "metadata": {},
   "outputs": [
    {
     "name": "stdout",
     "output_type": "stream",
     "text": [
      "     ┌───┐┌───────────┐┌───┐\n",
      "q_0: ┤ H ├┤0          ├┤ H ├\n",
      "     ├───┤│           │├───┤\n",
      "q_1: ┤ H ├┤1 Diagonal ├┤ H ├\n",
      "     ├───┤│           │├───┤\n",
      "q_2: ┤ H ├┤2          ├┤ H ├\n",
      "     └───┘└───────────┘└───┘\n"
     ]
    }
   ],
   "source": [
    "# Criação da matriz de difusão\n",
    "# W R W\n",
    "mtx = QuantumCircuit(qubit_qtd)\n",
    "mtx.Name = \"difusionMatrix\"\n",
    "print(difusionMatrix(mtx, allQbits, qubit_qtd))\n"
   ]
  },
  {
   "cell_type": "code",
   "execution_count": 103,
   "metadata": {},
   "outputs": [
    {
     "data": {
      "text/html": [
       "<pre style=\"word-wrap: normal;white-space: pre;background: #fff0;line-height: 1.1;font-family: &quot;Courier New&quot;,Courier,monospace\">        ┌───┐┌───────────┐┌──────────────┐ ░ ┌─┐      \n",
       "   q_0: ┤ H ├┤0          ├┤0             ├─░─┤M├──────\n",
       "        ├───┤│           ││              │ ░ └╥┘┌─┐   \n",
       "   q_1: ┤ H ├┤1 Diagonal ├┤1 circuit-980 ├─░──╫─┤M├───\n",
       "        ├───┤│           ││              │ ░  ║ └╥┘┌─┐\n",
       "   q_2: ┤ H ├┤2          ├┤2             ├─░──╫──╫─┤M├\n",
       "        └───┘└───────────┘└──────────────┘ ░  ║  ║ └╥┘\n",
       "meas: 3/══════════════════════════════════════╩══╩══╩═\n",
       "                                              0  1  2 </pre>"
      ],
      "text/plain": [
       "        ┌───┐┌───────────┐┌──────────────┐ ░ ┌─┐      \n",
       "   q_0: ┤ H ├┤0          ├┤0             ├─░─┤M├──────\n",
       "        ├───┤│           ││              │ ░ └╥┘┌─┐   \n",
       "   q_1: ┤ H ├┤1 Diagonal ├┤1 circuit-980 ├─░──╫─┤M├───\n",
       "        ├───┤│           ││              │ ░  ║ └╥┘┌─┐\n",
       "   q_2: ┤ H ├┤2          ├┤2             ├─░──╫──╫─┤M├\n",
       "        └───┘└───────────┘└──────────────┘ ░  ║  ║ └╥┘\n",
       "meas: 3/══════════════════════════════════════╩══╩══╩═\n",
       "                                              0  1  2 "
      ]
     },
     "execution_count": 103,
     "metadata": {},
     "output_type": "execute_result"
    }
   ],
   "source": [
    "# Aplicando matriz de difusao de Grover ao circuito\n",
    "\n",
    "algoritmoGrover.append(mtx, allQbits)\n",
    "algoritmoGrover.measure_all()\n",
    "algoritmoGrover.draw()"
   ]
  },
  {
   "cell_type": "code",
   "execution_count": 104,
   "metadata": {},
   "outputs": [
    {
     "data": {
      "image/png": "[encoded data removed]",
      "text/plain": [
       "<Figure size 700x500 with 1 Axes>"
      ]
     },
     "execution_count": 104,
     "metadata": {},
     "output_type": "execute_result"
    }
   ],
   "source": [
    "# Plot do resultado \n",
    "backend = BasicProvider().get_backend(\"basic_simulator\")\n",
    "\n",
    "transpiled_algoritmoGrover = transpile(algoritmoGrover, backend)\n",
    "qobj = assemble(transpiled_algoritmoGrover)\n",
    "result = backend.run(transpiled_algoritmoGrover).result()\n",
    "count = result.get_counts()\n",
    "plot_histogram(count)"
   ]
  }
 ],
 "metadata": {
  "kernelspec": {
   "display_name": "base",
   "language": "python",
   "name": "python3"
  },
  "language_info": {
   "codemirror_mode": {
    "name": "ipython",
    "version": 3
   },
   "file_extension": ".py",
   "mimetype": "text/x-python",
   "name": "python",
   "nbconvert_exporter": "python",
   "pygments_lexer": "ipython3",
   "version": "3.11.3"
  }
 },
 "nbformat": 4,
 "nbformat_minor": 2
}
